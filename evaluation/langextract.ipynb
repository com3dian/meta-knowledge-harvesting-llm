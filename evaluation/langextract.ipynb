{
 "cells": [
  {
   "cell_type": "code",
   "execution_count": 16,
   "metadata": {},
   "outputs": [
    {
     "name": "stderr",
     "output_type": "stream",
     "text": [
      "\u001b[94m\u001b[1mLangExtract\u001b[0m: model=\u001b[92mgemini-2.5-flash\u001b[0m, current=\u001b[92m6,416\u001b[0m chars, processed=\u001b[92m6,416\u001b[0m chars:  [00:00]"
     ]
    },
    {
     "name": "stderr",
     "output_type": "stream",
     "text": [
      "\u001b[94m\u001b[1mLangExtract\u001b[0m: model=\u001b[92mgemini-2.5-flash\u001b[0m, current=\u001b[92m6,416\u001b[0m chars, processed=\u001b[92m6,416\u001b[0m chars:  [00:53]"
     ]
    },
    {
     "name": "stdout",
     "output_type": "stream",
     "text": [
      "\u001b[92m✓\u001b[0m Extraction processing complete\n",
      "\u001b[92m✓\u001b[0m Extracted \u001b[1m114\u001b[0m entities (\u001b[1m4\u001b[0m unique types)\n",
      "  \u001b[96m•\u001b[0m Time: \u001b[1m53.58s\u001b[0m\n",
      "  \u001b[96m•\u001b[0m Speed: \u001b[1m120\u001b[0m chars/sec\n",
      "  \u001b[96m•\u001b[0m Chunks: \u001b[1m7\u001b[0m\n"
     ]
    },
    {
     "name": "stderr",
     "output_type": "stream",
     "text": [
      "\n"
     ]
    }
   ],
   "source": [
    "import langextract as lx\n",
    "input_text = \"\"\"\n",
    "3.1.1 Impact of fixed rise in temperature, CO₂ and change in rain fall\n",
    "\n",
    "Monsoon crop\n",
    "Results of simulation analysis indicate that maize yields in monsoon season are adversely affected due to rise in atmospheric temperatures in all three regions (Fig. 2a). Grain yield decreased with each degree rise in atmospheric temperature. However, the rate of decrease varied with location. The mean baseline yield of rainfed maize crop is about 2 Mg ha⁻¹ in UIGP, where the projected yield loss is up to 7, 11, 15, 22, and 33% relative to baseline yields with 1, 2, 3, 4, 5°C degrees rise in atmospheric temperatures. However, a 20% increase in rainfall is projected to offset the yield loss due to 1°C rise in temperature. Similarly, a 30% increase in rainfall is predicted to offset the adverse impact of 2°C rise in temperature. In MIGP region, yield reduction of about 8–35% with 1–5°C rise in atmospheric temperature is projected. In this region, increase in rainfall is likely to offset the temperature rise up to 0.75°C and any increase beyond this temperature will adversely impact the yields, in spite of increase in rainfall. The SP region is also projected to experience adverse impact with -10, -15, -23, -27 and -35% reductions from the baseline yield levels at each 1°C rise in temperature. A 10% increase in rainfall will offset the reduction in yield due to 1°C rise in temperature in this region.\n",
    "\n",
    "Even though maize is a C4 plant, increase in carbon dioxide is projected to benefit the crop yield ranging from 0.1 to 3.4% at 450 ppmV and 0.6 to 7.2% at 550 ppmV. The benefits are projected to be high in mild water stress conditions, but they are likely to reduce in severe water stress situations (Table 3). The yield gains due to increase in atmospheric CO₂ concentration are projected to be more in SP regions (low rainfall area) followed by UIGP and MIGP regions.\n",
    "\n",
    "Winter crop\n",
    "Maize crop during winter is provided with assured irrigation and thus yields about 1.5 times more than that of monsoon crop. Winter maize grain yield reduced with increase in temperatures in SP and MIGP, but in UIGP rise in temperatures up to 2.7°C is likely to improve the maize yields. However, further increase in temperature is projected to reduce grain yields and the reductions are likely to be more than those at MIGP and SP (Fig. 3a). In UIGP, this beneficial effect with rise in temperature is projected to be more up to 2°C rise (13% increase over current yields). In this region, yield will improve with 2°C in spite of reduction in rainfall. In the event of further increase in temperature to about 2.7°C, the reduction in yields can be offset only if rainfall is increased or more irrigation is provided. With temperature rise, the crop experiences conditions closer to optimal temperature during grain development, benefiting grain number. Relatively low temperature during grain filling period required more days to satisfy thermal time requirement. However, in both MIGP and SP, where the average maximum temperatures during winter crop season are relatively higher (Table 2), any increase in temperature can cause reduction in yield.\n",
    "\n",
    "Table 3 Influence of atmospheric carbon dioxide concentration on maize yields in rainfall deficit conditions during monsoon season\n",
    "\n",
    "In UIGP, rise in temperatures beyond 2.7°C caused reduction in yield mainly due to reduced number of grains. This limited the gains in spite of increase in GFD and individual grain weight. Further increase in temperature resulted in yield reduction from current yields. In UIGP, GFD was found to increase with rise in temperature because of current lower temperature during winter. While the rise in temperature prolonged GFD significantly at UIGP than at MIGP, it actually reduced at SP. In all locations, flowering hastened due to increase in temperature.\n",
    "3.1.2 Impact of climate change scenarios on maize yield\n",
    "\n",
    "The climate change scenario outputs of HadCM3 model on minimum and maximum temperatures and rainfall; CO₂ concentrations as per Bern CC model for 2020, 2050 and 2080 were coupled to InfoCrop-MAIZE model. This approach was followed because of reported spatio-temporal variations in climate change scenarios (IPCC 2007).\n",
    "\n",
    "Monsoon crop\n",
    "The analysis indicates that in UIGP region, climate change is projected to insignificantly affect the productivity of monsoon maize crop in 2020, 2050 and 2080 scenarios (Fig. 4a). This is mainly due to projected increase in rainfall during crop season, which will provide scope for improved dry matter production and increase in grain number. This implies that the maize crop may benefit from additional availability of water in spite of increase in temperature and related reduction in crop duration by 3–4 days. On the other hand, in MIGP, maize is likely to suffer yield loss in future scenarios. The loss from current yields is projected to be ~5%, ~13%, ~17% in 2020, 2050 and 2080, respectively. In SP, monsoon season crop is projected to lose grain yield by 21% from current yields due to climate change by 2020 and 35% by 2050 and later. Projected rise in daytime temperature during monsoon is higher in SP and MIGP as compared to UIGP region, even though minimum temperatures are projected to rise almost similarly in these locations. Apart from this, rainfall is projected to increase in UIGP while it is likely to change in MIGP. Thus, the spatio-temporal variation in existing climatic conditions and projected changes in temperature and rainfall would bring about differential impacts on monsoon maize crop in India.\n",
    "\n",
    "Winter crop\n",
    "As far as maize crop grown in winter is concerned, yield gains are projected to be ~5% over current yield in 2020 scenario at UIGP and this benefit is likely to remain till 2050 (Fig. 4b). However, in 2080 scenario, yields are projected to be reduced by 25% from current yields. Winter maize in MIGP, currently a high yielding zone, is projected to suffer in post-2020 scenario. The reduction in yield is likely to be to the tune of ~50% by 2050 and about 60% by 2080. In SP region, yields are projected to decline by about 13% in 2020, 17% in 2050 and 21% in 2080. In these areas, winter maize is well irrigated and thus variation in winter rainfall, which otherwise is low, is less influential. The projected rise in temperature during winter crop season is more in UIGP in 2020 and 2050 than in MIGP and SP, particularly during later part of crop growth.\n",
    "\"\"\"\n",
    "\n",
    "target_schema = {\n",
    "    \"Crop Type\": \"Name of the crop (e.g., maize, wheat, rice, soybean)\",\n",
    "    \"Crop Yield\": \"NUMERICAL VALUE ONLY. Use positive numbers for yield increases, negative numbers for yield decreases. No text or units.\",\n",
    "    \"Crop Yield Unit\": \"Unit of measurement for crop yield (e.g., tons/ha, kg/ha, Mg/ha, bushels/acre, %)\",\n",
    "    \"Climate Drivers\": \"Climate variable affecting the crop (e.g., temperature, precipitation, CO2, drought)\",\n",
    "    \"Climate Drivers Value\": \"NUMERICAL VALUE ONLY. Use positive numbers for increases (+1, +2.5), negative numbers for decreases (-1, -0.5). No text or units.\",\n",
    "    \"Climate Drivers Unit\": \"Unit of measurement for climate driver (e.g., °C, mm, ppm, %)\",\n",
    "    \"Experimental Design\": \"Type of study or model used (e.g., field experiment, crop model simulation, greenhouse study)\",\n",
    "    \"Location\": \"Geographic location or region (e.g., country, state, coordinates, study site name)\",\n",
    "    \"Time\": \"Time period or duration of study (e.g., 1990-2000, baseline period, future projection)\",\n",
    "    \"Source in paper\": \"Original text description from the entities or links file that contains the specific data point or evidence\"\n",
    "}\n",
    "\n",
    "prompt = f\"\"\"\n",
    "You are a research assistant helping to perform meta-analysis on climate change impacts on agriculture. Extract structured information from the given text according to the schema below.\n",
    "\n",
    "For each distinct finding about crop yield changes, create a separate data point following this schema:\n",
    "{target_schema}\n",
    "\n",
    "Important guidelines:\n",
    "1. Create separate entries for each unique combination of:\n",
    "   - Different locations/regions\n",
    "   - Different time periods\n",
    "   - Different climate conditions\n",
    "   - Different seasons (e.g., monsoon vs winter crops)\n",
    "2. For Crop Yield:\n",
    "   - Use only numerical values\n",
    "   - Convert text descriptions to numbers (e.g., \"reduction of about 8-35%\" → -8 to -35)\n",
    "   - Use negative numbers for decreases, positive for increases\n",
    "3. For Climate Drivers Value:\n",
    "   - Use only numerical values\n",
    "   - Include the magnitude of change (e.g., +1°C, +20% rainfall)\n",
    "4. Include the exact quote from the text in \"Source in paper\"\n",
    "5. Be precise with units as specified in the text\n",
    "\"\"\"\n",
    "\n",
    "examples = [\n",
    "    lx.data.ExampleData(\n",
    "        text=\"Under elevated temperature conditions (+2°C), maize yields in the Upper Indo-Gangetic Plains decreased by 15% compared to baseline yields of 4.5 tons/ha during the 2010-2015 growing seasons.\",\n",
    "        extractions=[\n",
    "            lx.data.Extraction(\n",
    "                extraction_class=\"crop\",\n",
    "                extraction_text=\"maize\",\n",
    "                attributes={\n",
    "                    \"yield_change\": -15,\n",
    "                    \"yield_unit\": \"percent\",\n",
    "                    \"baseline_yield\": 4.5,\n",
    "                    \"baseline_unit\": \"tons/ha\"\n",
    "                }\n",
    "            ),\n",
    "            lx.data.Extraction(\n",
    "                extraction_class=\"climate_driver\",\n",
    "                extraction_text=\"elevated temperature\",\n",
    "                attributes={\n",
    "                    \"change_value\": 2,\n",
    "                    \"change_unit\": \"°C\",\n",
    "                    \"direction\": \"increase\"\n",
    "                }\n",
    "            ),\n",
    "            lx.data.Extraction(\n",
    "                extraction_class=\"experiment design\",\n",
    "                extraction_text=\"Upper Indo-Gangetic Plains\",\n",
    "                attributes={\n",
    "                    \"location\": \"UIGP\",\n",
    "                    \"time_period\": \"2010-2015\",\n",
    "                    \"study_type\": \"field observation\"\n",
    "                }\n",
    "            ),\n",
    "            lx.data.Extraction(\n",
    "                extraction_class=\"relationship\",\n",
    "                extraction_text=\"decreased by 15%\",\n",
    "                attributes={\n",
    "                    \"type\": \"impact\",\n",
    "                    \"direction\": \"negative\",\n",
    "                    \"confidence\": \"high\"\n",
    "                }\n",
    "            ),\n",
    "        ]\n",
    "    )\n",
    "]\n",
    "\n",
    "result = lx.extract(\n",
    "    text_or_documents=input_text,\n",
    "    prompt_description=prompt,\n",
    "    examples=examples,\n",
    "    model_id=\"gemini-2.5-flash\"\n",
    ")"
   ]
  },
  {
   "cell_type": "code",
   "execution_count": 17,
   "metadata": {},
   "outputs": [
    {
     "name": "stderr",
     "output_type": "stream",
     "text": [
      "\u001b[94m\u001b[1mLangExtract\u001b[0m: Saving to \u001b[92mextraction_results.jsonl\u001b[0m: 1 docs [00:00, 545.21 docs/s]"
     ]
    },
    {
     "name": "stdout",
     "output_type": "stream",
     "text": [
      "\u001b[92m✓\u001b[0m Saved \u001b[1m1\u001b[0m documents to \u001b[92mextraction_results.jsonl\u001b[0m\n"
     ]
    },
    {
     "name": "stderr",
     "output_type": "stream",
     "text": [
      "\n",
      "\u001b[94m\u001b[1mLangExtract\u001b[0m: Loading \u001b[92mextraction_results.jsonl\u001b[0m: 100%|██████████| 43.2k/43.2k [00:00<00:00, 40.2MB/s]"
     ]
    },
    {
     "name": "stdout",
     "output_type": "stream",
     "text": [
      "\u001b[92m✓\u001b[0m Loaded \u001b[1m1\u001b[0m documents from \u001b[92mextraction_results.jsonl\u001b[0m\n"
     ]
    },
    {
     "name": "stderr",
     "output_type": "stream",
     "text": [
      "\n"
     ]
    }
   ],
   "source": [
    "# Save the results to a JSONL file\n",
    "lx.io.save_annotated_documents([result], output_name=\"extraction_results.jsonl\", output_dir=\"test_output\")\n",
    "\n",
    "# Generate the visualization from the file\n",
    "html_content = lx.visualize(\"test_output/extraction_results.jsonl\")"
   ]
  },
  {
   "cell_type": "code",
   "execution_count": 21,
   "metadata": {},
   "outputs": [
    {
     "ename": "AttributeError",
     "evalue": "'HTML' object has no attribute 'write_html'",
     "output_type": "error",
     "traceback": [
      "\u001b[31m---------------------------------------------------------------------------\u001b[39m",
      "\u001b[31mAttributeError\u001b[39m                            Traceback (most recent call last)",
      "\u001b[36mCell\u001b[39m\u001b[36m \u001b[39m\u001b[32mIn[21]\u001b[39m\u001b[32m, line 1\u001b[39m\n\u001b[32m----> \u001b[39m\u001b[32m1\u001b[39m \u001b[43mhtml_content\u001b[49m\u001b[43m.\u001b[49m\u001b[43mwrite_html\u001b[49m(\u001b[33m\"\u001b[39m\u001b[33mtest_output/visualization.html\u001b[39m\u001b[33m\"\u001b[39m)\n",
      "\u001b[31mAttributeError\u001b[39m: 'HTML' object has no attribute 'write_html'"
     ]
    }
   ],
   "source": [
    "html_content.write_html(\"test_output/visualization.html\")"
   ]
  },
  {
   "cell_type": "code",
   "execution_count": null,
   "metadata": {},
   "outputs": [],
   "source": []
  },
  {
   "cell_type": "code",
   "execution_count": 22,
   "metadata": {},
   "outputs": [],
   "source": [
    "# Method 1: If html_content is an IPython.display.HTML object\n",
    "html_str = html_content.data  # Get the raw HTML string\n",
    "with open(\"test_output/visualization.html\", \"w\", encoding=\"utf-8\") as f:\n",
    "    f.write(html_str)\n"
   ]
  },
  {
   "cell_type": "code",
   "execution_count": null,
   "metadata": {},
   "outputs": [],
   "source": []
  }
 ],
 "metadata": {
  "kernelspec": {
   "display_name": "sam2",
   "language": "python",
   "name": "python3"
  },
  "language_info": {
   "codemirror_mode": {
    "name": "ipython",
    "version": 3
   },
   "file_extension": ".py",
   "mimetype": "text/x-python",
   "name": "python",
   "nbconvert_exporter": "python",
   "pygments_lexer": "ipython3",
   "version": "3.12.9"
  }
 },
 "nbformat": 4,
 "nbformat_minor": 2
}
