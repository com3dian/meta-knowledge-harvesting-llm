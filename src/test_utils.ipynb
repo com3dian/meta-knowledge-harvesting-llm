{
 "cells": [
  {
   "cell_type": "code",
   "execution_count": 9,
   "metadata": {},
   "outputs": [
    {
     "data": {
      "text/plain": [
       "['\"description\"',\n",
       " '\"Iteration 2 - Synthesize findings\"',\n",
       " '\"write_file: Synthesize final results\"',\n",
       " '\"Final results synthesized\"',\n",
       " '\"All actions completed successfully\"']"
      ]
     },
     "execution_count": 9,
     "metadata": {},
     "output_type": "execute_result"
    }
   ],
   "source": [
    "from utils import split_string_by_multi_markers, clean_str\n",
    "from prompt import PROMPTS\n",
    "import re\n",
    "\n",
    "tuple_delimiter = PROMPTS[\"DEFAULT_TUPLE_DELIMITER\"]\n",
    "record_delimiter = PROMPTS[\"DEFAULT_RECORD_DELIMITER\"]\n",
    "completion_delimiter = PROMPTS[\"DEFAULT_COMPLETION_DELIMITER\"]\n",
    "\n",
    "\n",
    "test_string = f'''\n",
    "(\"description\"{tuple_delimiter}\"Iteration 2 - Synthesize findings\"{tuple_delimiter}\"write_file: Synthesize final results\"{tuple_delimiter}\"Final results synthesized\"{tuple_delimiter}\"All actions completed successfully\"){record_delimiter}\n",
    "(\"description\"{tuple_delimiter}\"Iteration 2 - Synthesize findings\"{tuple_delimiter}\"write_file: Synthesize final results\"{tuple_delimiter}\"Final results synthesized\"{tuple_delimiter}\"All actions completed successfully\"){record_delimiter}\n",
    "'''\n",
    "responses = split_string_by_multi_markers(test_string, [completion_delimiter, record_delimiter])\n",
    "record = re.search(r\"\\((.*)\\)\", responses[0])\n",
    "record_attributes = split_string_by_multi_markers(record.group(1), [tuple_delimiter])\n",
    "record_attributes\n"
   ]
  },
  {
   "cell_type": "code",
   "execution_count": 5,
   "metadata": {},
   "outputs": [
    {
     "data": {
      "text/plain": [
       "{'success': True, 'score': 1.35}"
      ]
     },
     "execution_count": 5,
     "metadata": {},
     "output_type": "execute_result"
    }
   ],
   "source": [
    "from research_agent_utils import run_function_criterion\n",
    "from research_agent import TestCriterion\n",
    "\n",
    "# Example usage:\n",
    "criterion = TestCriterion(\n",
    "    description=\"Check output quality\",\n",
    "    mode=\"function\",\n",
    "    function_code=\"\"\"\n",
    "def evaluate(output):\n",
    "    # Can now access threshold and weight from local_env\n",
    "    if len(str(output)) > threshold:\n",
    "        return {\"success\": True, \"score\": weight * 0.9}\n",
    "    else:\n",
    "        return {\"success\": False, \"score\": weight * 0.1}\n",
    "\"\"\"\n",
    ")\n",
    "\n",
    "params = {\n",
    "    \"output\": \"some output text\",\n",
    "    \"threshold\": 5,\n",
    "    \"weight\": 1.5\n",
    "}\n",
    "\n",
    "# Call with additional parameters\n",
    "result = run_function_criterion(\n",
    "    criterion, \n",
    "    **params\n",
    ")\n",
    "\n",
    "result"
   ]
  },
  {
   "cell_type": "code",
   "execution_count": 6,
   "metadata": {},
   "outputs": [
    {
     "name": "stdout",
     "output_type": "stream",
     "text": [
      "2025-07-10 15:35:15,262 - research_agent_tools - INFO - Successfully read file: /home/com3dian/Github/meta-knowledge-harvesting-llm/example_usage.py (1698 characters)\n"
     ]
    },
    {
     "data": {
      "text/plain": [
       "ActionResult(action='read_file(/home/com3dian/Github/meta-knowledge-harvesting-llm/example_usage.py)', success=True, output='#!/usr/bin/env python3\\n\"\"\"\\nExample usage of the Research Agent Framework\\n\"\"\"\\n\\nfrom src.research_agent import ResearchAgent, Goal\\n\\ndef example_programmatic_usage():\\n    \"\"\"Example of using the agent programmatically\"\"\"\\n    \\n    # Define a research goal\\n    goal = Goal(\\n        description=\"Analyze the content of README.md and create a summary\",\\n        success_criteria=[\\n            \"Successfully read the README.md file\",\\n            \"Create a comprehensive summary\",\\n            \"Generate actionable insights\"\\n        ],\\n        max_iterations=3\\n    )\\n    \\n    # Create and run the agent\\n    agent = ResearchAgent(goal, workspace_dir=\"./example_workspace\")\\n    \\n    print(\"Starting research agent programmatically...\")\\n    success = agent.run()\\n    \\n    if success:\\n        print(\"✅ Research completed successfully!\")\\n    else:\\n        print(\"❌ Research did not complete successfully\")\\n    \\n    return success\\n\\ndef custom_research_example():\\n    \"\"\"Example with custom research topic\"\"\"\\n    \\n    goal = Goal(\\n        description=\"Research and document Python best practices for file handling\",\\n        success_criteria=[\\n            \"Gather information about file handling\",\\n            \"Document best practices\",\\n            \"Create examples and guidelines\"\\n        ],\\n        max_iterations=4\\n    )\\n    \\n    agent = ResearchAgent(goal, workspace_dir=\"./python_research\")\\n    return agent.run()\\n\\nif __name__ == \"__main__\":\\n    print(\"=\" * 60)\\n    print(\"Research Agent Framework - Example Usage\")\\n    print(\"=\" * 60)\\n    \\n    # Run the example\\n    example_programmatic_usage()\\n    \\n    print(\"\\\\n\" + \"=\" * 60)\\n    print(\"Check the workspace directory for generated files!\")\\n    print(\"=\" * 60) ', error_message=None, execution_time=0.000363)"
      ]
     },
     "execution_count": 6,
     "metadata": {},
     "output_type": "execute_result"
    }
   ],
   "source": [
    "from research_agent_tools import ReadFileTool, WriteFileTool\n",
    "\n",
    "read_file_tool = ReadFileTool()\n",
    "write_file_tool = WriteFileTool()\n",
    "\n",
    "read_file_tool.execute(file_path=\"/home/com3dian/Github/meta-knowledge-harvesting-llm/example_usage.py\")\n",
    "\n",
    "# write_file_tool.execute(file_path=\"data/pdf/Porter_2005.pdf\", content=\"Hello, world!\")"
   ]
  },
  {
   "cell_type": "code",
   "execution_count": null,
   "metadata": {},
   "outputs": [],
   "source": []
  }
 ],
 "metadata": {
  "kernelspec": {
   "display_name": "sam2",
   "language": "python",
   "name": "python3"
  },
  "language_info": {
   "codemirror_mode": {
    "name": "ipython",
    "version": 3
   },
   "file_extension": ".py",
   "mimetype": "text/x-python",
   "name": "python",
   "nbconvert_exporter": "python",
   "pygments_lexer": "ipython3",
   "version": "3.12.9"
  }
 },
 "nbformat": 4,
 "nbformat_minor": 2
}
